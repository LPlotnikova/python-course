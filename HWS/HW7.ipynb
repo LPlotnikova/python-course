{
 "cells": [
  {
   "cell_type": "markdown",
   "metadata": {},
   "source": [
    "### Задание 7 (2 балла)\n",
    "Вам предлагается реализовать алгоритм аппроксимации функции синус с помощью метода [МНК](https://ru.wikipedia.org/wiki/%D0%9C%D0%B5%D1%82%D0%BE%D0%B4_%D0%BD%D0%B0%D0%B8%D0%BC%D0%B5%D0%BD%D1%8C%D1%88%D0%B8%D1%85_%D0%BA%D0%B2%D0%B0%D0%B4%D1%80%D0%B0%D1%82%D0%BE%D0%B2)\n",
    "\n",
    "$$f(x)=sin(x), x \\in [-180°, 180°]$$\n",
    "\n",
    "* Вам необходимо будет аппроксимировать функцию на этом отрезке.\n",
    "* Сформировать обучающее и тестовое множества самостоятельно.\n",
    "* Использовать готовую реализацию из numpy в пунктах 1 и 2 - нельзя.\n",
    "* Оценку времени выполнять из 10 запусков.\n",
    "* При построении графиков, вам необходимо учитывать все 10 запусков (отразить дисперсию, \"график с трубой\")\n",
    "* Кроссвалидацию делать необязательно\n",
    "* Помните про радианы и градусы\n"
   ]
  },
  {
   "cell_type": "markdown",
   "metadata": {},
   "source": [
    "#### 0. Создайте данные для решения задачи (0,1)"
   ]
  },
  {
   "cell_type": "code",
   "execution_count": null,
   "metadata": {},
   "outputs": [],
   "source": []
  },
  {
   "cell_type": "markdown",
   "metadata": {},
   "source": [
    "#### 1. Реализуйте МНК с помощью numpy (0,2)\n",
    "Реализуйте и протестируйте, постройте график, показывающий реальное значение функции и аппроксимацию"
   ]
  },
  {
   "cell_type": "code",
   "execution_count": null,
   "metadata": {},
   "outputs": [],
   "source": []
  },
  {
   "cell_type": "markdown",
   "metadata": {},
   "source": [
    "#### 2. Реализуйте МНК с помощью numpy и cdef (0,3)\n",
    "Реализуйте и протестируйте, постройте график, показывающий реальное значение функции и аппроксимацию"
   ]
  },
  {
   "cell_type": "code",
   "execution_count": null,
   "metadata": {},
   "outputs": [],
   "source": []
  },
  {
   "cell_type": "markdown",
   "metadata": {},
   "source": [
    "#### 3. Реализуйте МНК с помощью c extensions (0,4)\n",
    "Реализуйте и протестируйте, постройте график, показывающий реальное значение функции и аппроксимацию"
   ]
  },
  {
   "cell_type": "code",
   "execution_count": null,
   "metadata": {},
   "outputs": [],
   "source": []
  },
  {
   "cell_type": "markdown",
   "metadata": {},
   "source": [
    "#### 4. Сравните время работы (0,1)\n",
    "Сравните время работы реализаций из пунктов \"1. Реализуйте МНК с помощью numpy\", \"2. Реализуйте МНК с помощью numpy и cdef\" и \"3. Реализуйте МНК с помощью c extensions\""
   ]
  },
  {
   "cell_type": "code",
   "execution_count": null,
   "metadata": {},
   "outputs": [],
   "source": []
  },
  {
   "cell_type": "markdown",
   "metadata": {},
   "source": [
    "#### 5. Сделайте выводы по полученным оценкам времени (0,3):\n",
    "В частности, ответить на вопросы:\n",
    "1. Увеличилось ли время при использовании cdef в сравнении с numpy? - Почему? **(0,1)**\n",
    "2. Как влияет c extensions на производительность? **(0,1)**\n",
    "3. Сравните c extensions и вашу numpy реализацию. **(0,1)**"
   ]
  },
  {
   "cell_type": "code",
   "execution_count": null,
   "metadata": {},
   "outputs": [],
   "source": []
  },
  {
   "cell_type": "markdown",
   "metadata": {},
   "source": [
    "#### 6. Сделайте профилирование (0,4)\n",
    "1. Сделайте профилирование реализации из пункта 1, можно ли как-то ускорить? **(0,2)**\n",
    "1. Сделайте профилирование реализации из пункта 2, можно ли как-то ускорить? **(0,2)**"
   ]
  },
  {
   "cell_type": "code",
   "execution_count": null,
   "metadata": {},
   "outputs": [],
   "source": []
  },
  {
   "cell_type": "markdown",
   "metadata": {},
   "source": [
    "#### 7. Используйте готовую реализацию МНК из numpy / scipy (0,1)\n",
    "Протестируйте, постройте график, показывающий реальное значение функции и аппроксимацию."
   ]
  },
  {
   "cell_type": "code",
   "execution_count": null,
   "metadata": {},
   "outputs": [],
   "source": []
  },
  {
   "cell_type": "markdown",
   "metadata": {},
   "source": [
    "#### 8. Выводы (0,1)\n",
    "Резюмируйте и сделайте выводы относительно проведенных экспериментов"
   ]
  },
  {
   "cell_type": "code",
   "execution_count": null,
   "metadata": {},
   "outputs": [],
   "source": []
  }
 ],
 "metadata": {
  "kernelspec": {
   "display_name": "Python 3",
   "language": "python",
   "name": "python3"
  },
  "language_info": {
   "codemirror_mode": {
    "name": "ipython",
    "version": 3
   },
   "file_extension": ".py",
   "mimetype": "text/x-python",
   "name": "python",
   "nbconvert_exporter": "python",
   "pygments_lexer": "ipython3",
   "version": "3.7.4"
  }
 },
 "nbformat": 4,
 "nbformat_minor": 2
}
